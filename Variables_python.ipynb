{
 "cells": [
  {
   "cell_type": "code",
   "execution_count": 1,
   "id": "61540cce",
   "metadata": {},
   "outputs": [
    {
     "name": "stdout",
     "output_type": "stream",
     "text": [
      "22\n"
     ]
    }
   ],
   "source": [
    "##Assigning a variable\n",
    "x=22\n",
    "print(x)\n"
   ]
  },
  {
   "cell_type": "code",
   "execution_count": 2,
   "id": "13d2d804",
   "metadata": {},
   "outputs": [
    {
     "data": {
      "text/plain": [
       "int"
      ]
     },
     "execution_count": 2,
     "metadata": {},
     "output_type": "execute_result"
    }
   ],
   "source": [
    "##Determining Variable Type\n",
    "type(x)"
   ]
  },
  {
   "cell_type": "code",
   "execution_count": 4,
   "id": "95577721",
   "metadata": {},
   "outputs": [
    {
     "name": "stdout",
     "output_type": "stream",
     "text": [
      "mint choclate chip\n"
     ]
    },
    {
     "data": {
      "text/plain": [
       "str"
      ]
     },
     "execution_count": 4,
     "metadata": {},
     "output_type": "execute_result"
    }
   ],
   "source": [
    "##examples\n",
    "y=\"mint choclate chip\"\n",
    "print(y)\n",
    "type(y)"
   ]
  },
  {
   "cell_type": "code",
   "execution_count": 5,
   "id": "48cacd67",
   "metadata": {},
   "outputs": [
    {
     "name": "stdout",
     "output_type": "stream",
     "text": [
      "chocolate\n",
      "vanilla\n",
      "mint\n"
     ]
    }
   ],
   "source": [
    "## Assigning multiple variables\n",
    "x,y,z='chocolate','vanilla','mint'\n",
    "print(x)\n",
    "print(y)\n",
    "print(z)"
   ]
  },
  {
   "cell_type": "code",
   "execution_count": 6,
   "id": "15a131d4",
   "metadata": {},
   "outputs": [
    {
     "name": "stdout",
     "output_type": "stream",
     "text": [
      "mint\n",
      "mint\n",
      "mint\n"
     ]
    }
   ],
   "source": [
    "x=y=z\n",
    "print(x)\n",
    "print(y)\n",
    "print(z)"
   ]
  },
  {
   "cell_type": "code",
   "execution_count": 7,
   "id": "ed51d1ce",
   "metadata": {},
   "outputs": [
    {
     "name": "stdout",
     "output_type": "stream",
     "text": [
      "chocolate\n",
      "vanilla\n",
      "mint\n"
     ]
    }
   ],
   "source": [
    "##List of variables\n",
    "ice_creame=['chocolate','vanilla','mint']\n",
    "x,y,z=ice_creame\n",
    "print(x)\n",
    "print(y)\n",
    "print(z)\n",
    "\n"
   ]
  },
  {
   "cell_type": "code",
   "execution_count": null,
   "id": "6a5e97c8",
   "metadata": {},
   "outputs": [],
   "source": [
    "##Camel cases\n",
    "testVariableCase= 'Vanilla flavour'\n"
   ]
  },
  {
   "cell_type": "code",
   "execution_count": null,
   "id": "777039d3",
   "metadata": {},
   "outputs": [],
   "source": [
    "##pascal Case\n",
    "TestVariableCase= 'Vanilla flavour'\n"
   ]
  },
  {
   "cell_type": "code",
   "execution_count": null,
   "id": "f72e28b0",
   "metadata": {},
   "outputs": [],
   "source": [
    "##Snake Case\n",
    "test_variable_case= 'Vanilla flavour'"
   ]
  },
  {
   "cell_type": "code",
   "execution_count": null,
   "id": "e0d6fa5e",
   "metadata": {},
   "outputs": [],
   "source": [
    "##Good variable Names\n",
    "test_var='Vanilla flavour'\n",
    "testVar='Vanilla flavour'\n",
    "test_var2='Vanilla flavour'\n",
    "TestVar='Vanilla flavour'\n",
    "Test_Var='Vanilla flavour'\n",
    "##Bad Variable name\n",
    "2test_var='Vanilla flavour'\n",
    "2test-var='Vanilla flavour'\n",
    "2test,var='Vanilla flavour'"
   ]
  },
  {
   "cell_type": "code",
   "execution_count": 8,
   "id": "7c957260",
   "metadata": {},
   "outputs": [
    {
     "name": "stdout",
     "output_type": "stream",
     "text": [
      "I love Ice Cream.\n"
     ]
    }
   ],
   "source": [
    "test_var='I love Ice Cream'+'.'\n",
    "print(test_var)"
   ]
  },
  {
   "cell_type": "code",
   "execution_count": 11,
   "id": "19d84845",
   "metadata": {},
   "outputs": [],
   "source": [
    "test_var_x='I'\n",
    "test_var_y =' Love'\n",
    "test_var_z=' Ice Creame'"
   ]
  },
  {
   "cell_type": "code",
   "execution_count": 12,
   "id": "22b79e8c",
   "metadata": {},
   "outputs": [
    {
     "name": "stdout",
     "output_type": "stream",
     "text": [
      "I Love Ice Creame\n"
     ]
    }
   ],
   "source": [
    "print (test_var_x + test_var_y + test_var_z)"
   ]
  },
  {
   "cell_type": "code",
   "execution_count": null,
   "id": "a047c7c6",
   "metadata": {},
   "outputs": [],
   "source": []
  }
 ],
 "metadata": {
  "kernelspec": {
   "display_name": "Python 3 (ipykernel)",
   "language": "python",
   "name": "python3"
  },
  "language_info": {
   "codemirror_mode": {
    "name": "ipython",
    "version": 3
   },
   "file_extension": ".py",
   "mimetype": "text/x-python",
   "name": "python",
   "nbconvert_exporter": "python",
   "pygments_lexer": "ipython3",
   "version": "3.9.12"
  }
 },
 "nbformat": 4,
 "nbformat_minor": 5
}
