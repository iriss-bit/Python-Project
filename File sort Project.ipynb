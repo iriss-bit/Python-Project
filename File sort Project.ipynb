{
 "cells": [
  {
   "cell_type": "code",
   "execution_count": 1,
   "id": "1b072157",
   "metadata": {},
   "outputs": [],
   "source": [
    "import os,shutil"
   ]
  },
  {
   "cell_type": "code",
   "execution_count": 21,
   "id": "4ea7ca24",
   "metadata": {},
   "outputs": [],
   "source": [
    "path=r'C:/Users/IRISS/Documents/Tableau/'"
   ]
  },
  {
   "cell_type": "code",
   "execution_count": 22,
   "id": "5e61f918",
   "metadata": {},
   "outputs": [
    {
     "data": {
      "text/plain": [
       "['Airbnb Seattle.twbx',\n",
       " 'CO2-Dataset.xlsx',\n",
       " 'CO2.xlsx',\n",
       " 'Covid Dashboard Project.twbx',\n",
       " 'Energy-data.xlsx',\n",
       " 'Excel Project Dataset (1).xlsx',\n",
       " 'gdptotal.xlsx',\n",
       " 'NYC_airbnb (1).twbx',\n",
       " 'NYC_airbnb.twbx',\n",
       " 'pizza dataset.xlsx',\n",
       " 'totalpopulation.xlsx']"
      ]
     },
     "execution_count": 22,
     "metadata": {},
     "output_type": "execute_result"
    }
   ],
   "source": [
    "os.listdir(path)"
   ]
  },
  {
   "cell_type": "code",
   "execution_count": 24,
   "id": "027f0cb2",
   "metadata": {},
   "outputs": [
    {
     "data": {
      "text/plain": [
       "False"
      ]
     },
     "execution_count": 24,
     "metadata": {},
     "output_type": "execute_result"
    }
   ],
   "source": [
    "os.path.exists(path +'csv.files' )"
   ]
  },
  {
   "cell_type": "code",
   "execution_count": 25,
   "id": "48174617",
   "metadata": {},
   "outputs": [
    {
     "name": "stdout",
     "output_type": "stream",
     "text": [
      "C:/Users/IRISS/Documents/Tableau/xlsx.files\n"
     ]
    }
   ],
   "source": [
    "Folder_names =('twbx.files','xlsx.files','png.files')\n",
    "for loop in range(1,2):\n",
    "    if not os.path.exists(path + Folder_names[loop]):\n",
    "        print(path + Folder_names[loop])\n",
    "        os.makedirs(Folder_names[loop])\n",
    "    "
   ]
  },
  {
   "cell_type": "code",
   "execution_count": null,
   "id": "be76c8d4",
   "metadata": {},
   "outputs": [],
   "source": []
  }
 ],
 "metadata": {
  "kernelspec": {
   "display_name": "Python 3 (ipykernel)",
   "language": "python",
   "name": "python3"
  },
  "language_info": {
   "codemirror_mode": {
    "name": "ipython",
    "version": 3
   },
   "file_extension": ".py",
   "mimetype": "text/x-python",
   "name": "python",
   "nbconvert_exporter": "python",
   "pygments_lexer": "ipython3",
   "version": "3.9.12"
  }
 },
 "nbformat": 4,
 "nbformat_minor": 5
}
