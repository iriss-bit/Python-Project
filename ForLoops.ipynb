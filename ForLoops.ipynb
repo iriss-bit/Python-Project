{
 "cells": [
  {
   "cell_type": "code",
   "execution_count": 4,
   "id": "887c388b",
   "metadata": {},
   "outputs": [],
   "source": [
    "Integers=[1,2,3,4,5]"
   ]
  },
  {
   "cell_type": "code",
   "execution_count": 5,
   "id": "4f6d80b3",
   "metadata": {},
   "outputs": [
    {
     "name": "stdout",
     "output_type": "stream",
     "text": [
      "1\n",
      "2\n",
      "3\n",
      "4\n",
      "5\n"
     ]
    }
   ],
   "source": [
    "for number in Integers:\n",
    "    print(number)"
   ]
  },
  {
   "cell_type": "code",
   "execution_count": null,
   "id": "ae5a3bb3",
   "metadata": {},
   "outputs": [],
   "source": [
    "Integers=[1,2,3,4,5]"
   ]
  },
  {
   "cell_type": "code",
   "execution_count": null,
   "id": "4961e3b5",
   "metadata": {},
   "outputs": [],
   "source": [
    "for number in Integers:\n",
    "    print(number)"
   ]
  },
  {
   "cell_type": "code",
   "execution_count": 6,
   "id": "ed1960a8",
   "metadata": {},
   "outputs": [],
   "source": [
    "ice_creame_dic =dictionary_cream={'name':'Iris Seb','weekly_intake':5,'fav_ice_reame':['strawberry','apple','vanilla']}"
   ]
  },
  {
   "cell_type": "code",
   "execution_count": 8,
   "id": "22483729",
   "metadata": {},
   "outputs": [
    {
     "name": "stdout",
     "output_type": "stream",
     "text": [
      "Iris Seb\n",
      "5\n",
      "['strawberry', 'apple', 'vanilla']\n"
     ]
    }
   ],
   "source": [
    "for cream in ice_creame_dic.values():\n",
    "    print(cream)"
   ]
  },
  {
   "cell_type": "code",
   "execution_count": 11,
   "id": "0dd0ee1d",
   "metadata": {},
   "outputs": [
    {
     "name": "stdout",
     "output_type": "stream",
     "text": [
      "name -> Iris Seb\n",
      "weekly_intake -> 5\n",
      "fav_ice_reame -> ['strawberry', 'apple', 'vanilla']\n"
     ]
    }
   ],
   "source": [
    "for key,value in ice_creame_dic.items():\n",
    "    print(key,\"->\" ,value)"
   ]
  },
  {
   "cell_type": "code",
   "execution_count": 13,
   "id": "a6d44f63",
   "metadata": {},
   "outputs": [],
   "source": [
    "##nested for loop\n",
    "flavours =['strawberry','apple','vanilla','chocolate']\n"
   ]
  },
  {
   "cell_type": "code",
   "execution_count": 14,
   "id": "fa464fc4",
   "metadata": {},
   "outputs": [],
   "source": [
    "Toppings=['marshmallow','orio','choc-chip']"
   ]
  },
  {
   "cell_type": "code",
   "execution_count": 16,
   "id": "7f1ceb59",
   "metadata": {},
   "outputs": [
    {
     "name": "stdout",
     "output_type": "stream",
     "text": [
      "strawberry topped with marshmallow\n",
      "strawberry topped with orio\n",
      "strawberry topped with choc-chip\n",
      "apple topped with marshmallow\n",
      "apple topped with orio\n",
      "apple topped with choc-chip\n",
      "vanilla topped with marshmallow\n",
      "vanilla topped with orio\n",
      "vanilla topped with choc-chip\n",
      "chocolate topped with marshmallow\n",
      "chocolate topped with orio\n",
      "chocolate topped with choc-chip\n"
     ]
    }
   ],
   "source": [
    "for one in flavours:\n",
    "    for two in Toppings:\n",
    "        print(one, \"topped with\" ,two)"
   ]
  },
  {
   "cell_type": "code",
   "execution_count": null,
   "id": "99ee72bd",
   "metadata": {},
   "outputs": [],
   "source": []
  }
 ],
 "metadata": {
  "kernelspec": {
   "display_name": "Python 3 (ipykernel)",
   "language": "python",
   "name": "python3"
  },
  "language_info": {
   "codemirror_mode": {
    "name": "ipython",
    "version": 3
   },
   "file_extension": ".py",
   "mimetype": "text/x-python",
   "name": "python",
   "nbconvert_exporter": "python",
   "pygments_lexer": "ipython3",
   "version": "3.9.12"
  }
 },
 "nbformat": 4,
 "nbformat_minor": 5
}
