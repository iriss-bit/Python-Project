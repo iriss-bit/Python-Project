{
 "cells": [
  {
   "cell_type": "code",
   "execution_count": 1,
   "id": "61217909",
   "metadata": {},
   "outputs": [
    {
     "name": "stdout",
     "output_type": "stream",
     "text": [
      "It Worked\n"
     ]
    }
   ],
   "source": [
    "if 25>10:\n",
    "    print('It Worked')"
   ]
  },
  {
   "cell_type": "code",
   "execution_count": 6,
   "id": "ec016205",
   "metadata": {},
   "outputs": [
    {
     "name": "stdout",
     "output_type": "stream",
     "text": [
      "Elif2 Worked\n"
     ]
    }
   ],
   "source": [
    "if 25<10:\n",
    "    print('It Worked')\n",
    "elif 25<20:\n",
    "    print('Elif Worked')\n",
    "elif 25<21:\n",
    "    print('Elif1 Worked')\n",
    "elif 25<30:\n",
    "    print('Elif2 Worked')\n",
    "elif 25<41:\n",
    "    print('Elif3 Worked')\n",
    "else:\n",
    "    print('It did not Worke')\n",
    "    "
   ]
  },
  {
   "cell_type": "code",
   "execution_count": 7,
   "id": "778afa2b",
   "metadata": {},
   "outputs": [
    {
     "name": "stdout",
     "output_type": "stream",
     "text": [
      "it did not work....\n"
     ]
    }
   ],
   "source": [
    "print ('it worked')if 10>30 else print('it did not work....')"
   ]
  },
  {
   "cell_type": "code",
   "execution_count": null,
   "id": "2bf50eeb",
   "metadata": {},
   "outputs": [],
   "source": []
  }
 ],
 "metadata": {
  "kernelspec": {
   "display_name": "Python 3 (ipykernel)",
   "language": "python",
   "name": "python3"
  },
  "language_info": {
   "codemirror_mode": {
    "name": "ipython",
    "version": 3
   },
   "file_extension": ".py",
   "mimetype": "text/x-python",
   "name": "python",
   "nbconvert_exporter": "python",
   "pygments_lexer": "ipython3",
   "version": "3.9.12"
  }
 },
 "nbformat": 4,
 "nbformat_minor": 5
}
