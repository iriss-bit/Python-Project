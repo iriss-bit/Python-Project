{
 "cells": [
  {
   "cell_type": "code",
   "execution_count": 1,
   "id": "db127e9f",
   "metadata": {},
   "outputs": [],
   "source": [
    "num_int1 =7"
   ]
  },
  {
   "cell_type": "code",
   "execution_count": 2,
   "id": "1081b85f",
   "metadata": {},
   "outputs": [
    {
     "data": {
      "text/plain": [
       "int"
      ]
     },
     "execution_count": 2,
     "metadata": {},
     "output_type": "execute_result"
    }
   ],
   "source": [
    "type(num_int1)"
   ]
  },
  {
   "cell_type": "code",
   "execution_count": 9,
   "id": "42ea276f",
   "metadata": {},
   "outputs": [],
   "source": [
    "num_int2 ='7'"
   ]
  },
  {
   "cell_type": "code",
   "execution_count": 10,
   "id": "c55c8a1d",
   "metadata": {},
   "outputs": [
    {
     "data": {
      "text/plain": [
       "str"
      ]
     },
     "execution_count": 10,
     "metadata": {},
     "output_type": "execute_result"
    }
   ],
   "source": [
    "type(num_int2)"
   ]
  },
  {
   "cell_type": "code",
   "execution_count": 13,
   "id": "a44892ce",
   "metadata": {},
   "outputs": [],
   "source": [
    "num_int2_conv= int(num_int2)"
   ]
  },
  {
   "cell_type": "code",
   "execution_count": 14,
   "id": "39504940",
   "metadata": {},
   "outputs": [
    {
     "data": {
      "text/plain": [
       "int"
      ]
     },
     "execution_count": 14,
     "metadata": {},
     "output_type": "execute_result"
    }
   ],
   "source": [
    "type(num_int2_conv)"
   ]
  },
  {
   "cell_type": "code",
   "execution_count": 17,
   "id": "48c9035f",
   "metadata": {},
   "outputs": [
    {
     "data": {
      "text/plain": [
       "14"
      ]
     },
     "execution_count": 17,
     "metadata": {},
     "output_type": "execute_result"
    }
   ],
   "source": [
    "num_int1 =7\n",
    "num_int2_conv + num_int1"
   ]
  },
  {
   "cell_type": "code",
   "execution_count": 27,
   "id": "2d213fe9",
   "metadata": {},
   "outputs": [],
   "source": [
    "list=[1,2,3,4,5,7,7,9]"
   ]
  },
  {
   "cell_type": "code",
   "execution_count": 28,
   "id": "64c55d19",
   "metadata": {},
   "outputs": [
    {
     "data": {
      "text/plain": [
       "list"
      ]
     },
     "execution_count": 28,
     "metadata": {},
     "output_type": "execute_result"
    }
   ],
   "source": [
    "type(list)"
   ]
  },
  {
   "cell_type": "code",
   "execution_count": 29,
   "id": "81e9dbe5",
   "metadata": {},
   "outputs": [
    {
     "data": {
      "text/plain": [
       "tuple"
      ]
     },
     "execution_count": 29,
     "metadata": {},
     "output_type": "execute_result"
    }
   ],
   "source": [
    "##convert list into a turple\n",
    "type(tuple(list))"
   ]
  },
  {
   "cell_type": "code",
   "execution_count": 30,
   "id": "6f36926a",
   "metadata": {},
   "outputs": [
    {
     "data": {
      "text/plain": [
       "[1, 2, 3, 4, 5, 7, 7, 9]"
      ]
     },
     "execution_count": 30,
     "metadata": {},
     "output_type": "execute_result"
    }
   ],
   "source": [
    "list"
   ]
  },
  {
   "cell_type": "code",
   "execution_count": 31,
   "id": "dab788eb",
   "metadata": {},
   "outputs": [
    {
     "data": {
      "text/plain": [
       "set"
      ]
     },
     "execution_count": 31,
     "metadata": {},
     "output_type": "execute_result"
    }
   ],
   "source": [
    "##convert list into a set\n",
    "type(set(list))"
   ]
  },
  {
   "cell_type": "code",
   "execution_count": 33,
   "id": "c7a5faa4",
   "metadata": {},
   "outputs": [
    {
     "data": {
      "text/plain": [
       "{1, 2, 3, 4, 5, 7, 9}"
      ]
     },
     "execution_count": 33,
     "metadata": {},
     "output_type": "execute_result"
    }
   ],
   "source": [
    "set(list)"
   ]
  },
  {
   "cell_type": "code",
   "execution_count": 36,
   "id": "d44c92f4",
   "metadata": {},
   "outputs": [],
   "source": [
    "##dictionary\n",
    "dict_tye={'name':'Iris','Age':40,'Gender':'M'}"
   ]
  },
  {
   "cell_type": "code",
   "execution_count": 38,
   "id": "a12bb7a1",
   "metadata": {},
   "outputs": [
    {
     "data": {
      "text/plain": [
       "dict"
      ]
     },
     "execution_count": 38,
     "metadata": {},
     "output_type": "execute_result"
    }
   ],
   "source": [
    "type(dict_tye)"
   ]
  },
  {
   "cell_type": "code",
   "execution_count": 39,
   "id": "190bf47a",
   "metadata": {},
   "outputs": [
    {
     "data": {
      "text/plain": [
       "dict_values(['Iris', 40, 'M'])"
      ]
     },
     "execution_count": 39,
     "metadata": {},
     "output_type": "execute_result"
    }
   ],
   "source": [
    "dict_tye.values()"
   ]
  },
  {
   "cell_type": "code",
   "execution_count": 41,
   "id": "229178ec",
   "metadata": {},
   "outputs": [
    {
     "data": {
      "text/plain": [
       "dict_keys(['name', 'Age', 'Gender'])"
      ]
     },
     "execution_count": 41,
     "metadata": {},
     "output_type": "execute_result"
    }
   ],
   "source": [
    "dict_tye.keys()"
   ]
  },
  {
   "cell_type": "code",
   "execution_count": 51,
   "id": "abe6b0a6",
   "metadata": {},
   "outputs": [],
   "source": [
    "long_str=\"i love ice cream\""
   ]
  },
  {
   "cell_type": "code",
   "execution_count": 55,
   "id": "adf68e30",
   "metadata": {},
   "outputs": [
    {
     "data": {
      "text/plain": [
       "str"
      ]
     },
     "execution_count": 55,
     "metadata": {},
     "output_type": "execute_result"
    }
   ],
   "source": [
    "type(long_str)"
   ]
  },
  {
   "cell_type": "code",
   "execution_count": 60,
   "id": "afb563db",
   "metadata": {},
   "outputs": [
    {
     "data": {
      "text/plain": [
       "('i',\n",
       " ' ',\n",
       " 'l',\n",
       " 'o',\n",
       " 'v',\n",
       " 'e',\n",
       " ' ',\n",
       " 'i',\n",
       " 'c',\n",
       " 'e',\n",
       " ' ',\n",
       " 'c',\n",
       " 'r',\n",
       " 'e',\n",
       " 'a',\n",
       " 'm')"
      ]
     },
     "execution_count": 60,
     "metadata": {},
     "output_type": "execute_result"
    }
   ],
   "source": [
    "tuple(long_str)"
   ]
  },
  {
   "cell_type": "code",
   "execution_count": null,
   "id": "562c3fc4",
   "metadata": {},
   "outputs": [],
   "source": []
  }
 ],
 "metadata": {
  "kernelspec": {
   "display_name": "Python 3 (ipykernel)",
   "language": "python",
   "name": "python3"
  },
  "language_info": {
   "codemirror_mode": {
    "name": "ipython",
    "version": 3
   },
   "file_extension": ".py",
   "mimetype": "text/x-python",
   "name": "python",
   "nbconvert_exporter": "python",
   "pygments_lexer": "ipython3",
   "version": "3.9.12"
  }
 },
 "nbformat": 4,
 "nbformat_minor": 5
}
