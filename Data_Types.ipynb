{
 "cells": [
  {
   "cell_type": "code",
   "execution_count": 1,
   "id": "1b0e67bf",
   "metadata": {},
   "outputs": [
    {
     "data": {
      "text/plain": [
       "int"
      ]
     },
     "execution_count": 1,
     "metadata": {},
     "output_type": "execute_result"
    }
   ],
   "source": [
    "##integer\n",
    "type(12)"
   ]
  },
  {
   "cell_type": "code",
   "execution_count": 2,
   "id": "347cf239",
   "metadata": {},
   "outputs": [
    {
     "data": {
      "text/plain": [
       "float"
      ]
     },
     "execution_count": 2,
     "metadata": {},
     "output_type": "execute_result"
    }
   ],
   "source": [
    "##float\n",
    "type(12 + 12.3)"
   ]
  },
  {
   "cell_type": "code",
   "execution_count": 3,
   "id": "90fa8dd1",
   "metadata": {},
   "outputs": [
    {
     "data": {
      "text/plain": [
       "complex"
      ]
     },
     "execution_count": 3,
     "metadata": {},
     "output_type": "execute_result"
    }
   ],
   "source": [
    "##complex\n",
    "type(12 + 12j)"
   ]
  },
  {
   "cell_type": "code",
   "execution_count": 9,
   "id": "5fa5b895",
   "metadata": {},
   "outputs": [
    {
     "name": "stdout",
     "output_type": "stream",
     "text": [
      "<class 'bool'>\n"
     ]
    },
    {
     "data": {
      "text/plain": [
       "False"
      ]
     },
     "execution_count": 9,
     "metadata": {},
     "output_type": "execute_result"
    }
   ],
   "source": [
    "##boolean\n",
    "print(type(5>6))\n",
    "5>6"
   ]
  },
  {
   "cell_type": "code",
   "execution_count": 11,
   "id": "ded1a281",
   "metadata": {},
   "outputs": [
    {
     "data": {
      "text/plain": [
       "True"
      ]
     },
     "execution_count": 11,
     "metadata": {},
     "output_type": "execute_result"
    }
   ],
   "source": [
    "1==1"
   ]
  },
  {
   "cell_type": "code",
   "execution_count": 12,
   "id": "0747d0a6",
   "metadata": {},
   "outputs": [
    {
     "name": "stdout",
     "output_type": "stream",
     "text": [
      "double_code\n",
      "single_code\n"
     ]
    }
   ],
   "source": [
    "##strings(diuble codes and single codes works the same)\n",
    "print(\"double_code\")\n",
    "print('single_code')"
   ]
  },
  {
   "cell_type": "code",
   "execution_count": 13,
   "id": "7398c635",
   "metadata": {},
   "outputs": [
    {
     "name": "stdout",
     "output_type": "stream",
     "text": [
      " ilove ice creame,\n",
      "so much ,\n",
      "that the cravings,\n",
      "does not go away\n"
     ]
    }
   ],
   "source": [
    "##tripple codes is used with multiple lines\n",
    "multiple_lines =\"\"\" ilove ice creame,\n",
    "so much ,\n",
    "that the cravings,\n",
    "does not go away\"\"\"\n",
    "print(multiple_lines)"
   ]
  },
  {
   "cell_type": "code",
   "execution_count": 20,
   "id": "a30d9fc5",
   "metadata": {},
   "outputs": [
    {
     "name": "stdout",
     "output_type": "stream",
     "text": [
      "i lov\n",
      "e ice creame\n",
      "e ice\n",
      "m\n"
     ]
    }
   ],
   "source": [
    "## strings can be index(findind a position of strings)\n",
    "cravings ='i love ice creame'\n",
    "print(cravings[:5])## gives me position of any vowel up to 5 in my string counting also spaces\n",
    "print(cravings[5:])## gives me position of any vowel after position 5 in my string counting also spaces\n",
    "print(cravings[5:10])## gives me position of any vowel between 5 and  10 in my string counting also spaces\n",
    "print(cravings[-2])## gives me 2nd last position from the left\n"
   ]
  },
  {
   "cell_type": "code",
   "execution_count": 23,
   "id": "d90a95f0",
   "metadata": {},
   "outputs": [
    {
     "name": "stdout",
     "output_type": "stream",
     "text": [
      "i love ice creame i love ice creame\n"
     ]
    }
   ],
   "source": [
    "## adding strings\n",
    "print(cravings + \" \" + cravings)"
   ]
  },
  {
   "cell_type": "code",
   "execution_count": 25,
   "id": "15c04607",
   "metadata": {},
   "outputs": [
    {
     "data": {
      "text/plain": [
       "['strawberry', 'apple', 'vanilla', 'pears']"
      ]
     },
     "execution_count": 25,
     "metadata": {},
     "output_type": "execute_result"
    }
   ],
   "source": [
    "##List\n",
    "[1,2,3,4,5]\n",
    "['strawberry','apple','vanilla','pears']"
   ]
  },
  {
   "cell_type": "code",
   "execution_count": 26,
   "id": "f94b4c49",
   "metadata": {},
   "outputs": [
    {
     "data": {
      "text/plain": [
       "[1, 2, 3, 4, 5]"
      ]
     },
     "execution_count": 26,
     "metadata": {},
     "output_type": "execute_result"
    }
   ],
   "source": [
    "[1,2,3,4,5]"
   ]
  },
  {
   "cell_type": "code",
   "execution_count": 28,
   "id": "df212fda",
   "metadata": {},
   "outputs": [
    {
     "data": {
      "text/plain": [
       "['vanilla', 3, ['spoons', 'spoon'], True]"
      ]
     },
     "execution_count": 28,
     "metadata": {},
     "output_type": "execute_result"
    }
   ],
   "source": [
    "['vanilla',3,['spoons','spoon'],True]"
   ]
  },
  {
   "cell_type": "code",
   "execution_count": 29,
   "id": "fbc0c66e",
   "metadata": {},
   "outputs": [],
   "source": [
    "ice_cream =['strawberry','apple','vanilla','pears']"
   ]
  },
  {
   "cell_type": "code",
   "execution_count": 32,
   "id": "73921135",
   "metadata": {},
   "outputs": [
    {
     "data": {
      "text/plain": [
       "['strawberry', 'apple', 'vanilla', 'pears', 'salted caramel']"
      ]
     },
     "execution_count": 32,
     "metadata": {},
     "output_type": "execute_result"
    }
   ],
   "source": [
    "## adding an Item to the list\n",
    "\n",
    "ice_cream =['strawberry','apple','vanilla','pears']\n",
    "ice_cream.append('salted caramel')\n",
    "ice_cream"
   ]
  },
  {
   "cell_type": "code",
   "execution_count": 33,
   "id": "b8addfac",
   "metadata": {},
   "outputs": [
    {
     "data": {
      "text/plain": [
       "['butter_milk', 'apple', 'vanilla', 'pears', 'salted caramel']"
      ]
     },
     "execution_count": 33,
     "metadata": {},
     "output_type": "execute_result"
    }
   ],
   "source": [
    "## changing the item in the list\n",
    "ice_cream[0]='butter_milk'\n",
    "ice_cream"
   ]
  },
  {
   "cell_type": "code",
   "execution_count": 34,
   "id": "bd2e8e14",
   "metadata": {},
   "outputs": [],
   "source": [
    "nested_list=['vanilla',3,['spoons','spoon'],True]"
   ]
  },
  {
   "cell_type": "code",
   "execution_count": 37,
   "id": "b937a1fe",
   "metadata": {},
   "outputs": [
    {
     "name": "stdout",
     "output_type": "stream",
     "text": [
      "vanilla\n",
      "['spoons', 'spoon']\n"
     ]
    }
   ],
   "source": [
    "print(nested_list[0])\n",
    "print(nested_list[2])## returns the position of the nested list"
   ]
  },
  {
   "cell_type": "code",
   "execution_count": 38,
   "id": "ff896aed",
   "metadata": {},
   "outputs": [
    {
     "name": "stdout",
     "output_type": "stream",
     "text": [
      "spoon\n"
     ]
    }
   ],
   "source": [
    "print(nested_list[2][1])## returns the first position within the nested list"
   ]
  },
  {
   "cell_type": "code",
   "execution_count": 39,
   "id": "36d4659f",
   "metadata": {},
   "outputs": [],
   "source": [
    "##Tuples\n",
    "tuple_scoop =(1,2,3,2,1)"
   ]
  },
  {
   "cell_type": "code",
   "execution_count": 40,
   "id": "e8eed9b1",
   "metadata": {},
   "outputs": [
    {
     "data": {
      "text/plain": [
       "tuple"
      ]
     },
     "execution_count": 40,
     "metadata": {},
     "output_type": "execute_result"
    }
   ],
   "source": [
    "type(tuple_scoop)"
   ]
  },
  {
   "cell_type": "code",
   "execution_count": 41,
   "id": "47302c1d",
   "metadata": {},
   "outputs": [
    {
     "data": {
      "text/plain": [
       "1"
      ]
     },
     "execution_count": 41,
     "metadata": {},
     "output_type": "execute_result"
    }
   ],
   "source": [
    "##tuples cannot be changesor append\n",
    "tuple_scoop[0]"
   ]
  },
  {
   "cell_type": "code",
   "execution_count": 42,
   "id": "59f20a2c",
   "metadata": {},
   "outputs": [],
   "source": [
    "##sets(they dont allow duplicate)\n",
    "daily_prints={1,2,3}"
   ]
  },
  {
   "cell_type": "code",
   "execution_count": 43,
   "id": "59aeaef6",
   "metadata": {},
   "outputs": [
    {
     "data": {
      "text/plain": [
       "set"
      ]
     },
     "execution_count": 43,
     "metadata": {},
     "output_type": "execute_result"
    }
   ],
   "source": [
    "type(daily_prints)"
   ]
  },
  {
   "cell_type": "code",
   "execution_count": 44,
   "id": "50298bb3",
   "metadata": {},
   "outputs": [
    {
     "name": "stdout",
     "output_type": "stream",
     "text": [
      "{1, 2, 3}\n"
     ]
    }
   ],
   "source": [
    "print(daily_prints)"
   ]
  },
  {
   "cell_type": "code",
   "execution_count": 50,
   "id": "0d3a997d",
   "metadata": {},
   "outputs": [],
   "source": [
    "daily_prints_log={1,2,3,4,1,4,6,5,7,7,4,5}"
   ]
  },
  {
   "cell_type": "code",
   "execution_count": 49,
   "id": "e109a6ab",
   "metadata": {},
   "outputs": [
    {
     "name": "stdout",
     "output_type": "stream",
     "text": [
      "{1, 2, 3, 4, 5, 6, 7}\n"
     ]
    }
   ],
   "source": [
    "print(daily_prints_log)"
   ]
  },
  {
   "cell_type": "code",
   "execution_count": 51,
   "id": "3cd57196",
   "metadata": {},
   "outputs": [],
   "source": [
    "##identifying unique values between multiple sets\n",
    "other_daily_prints_log={1,31,41,4,3,7,2,3,31}"
   ]
  },
  {
   "cell_type": "code",
   "execution_count": 52,
   "id": "6889470a",
   "metadata": {},
   "outputs": [
    {
     "name": "stdout",
     "output_type": "stream",
     "text": [
      "{1, 2, 3, 4, 5, 6, 7, 41, 31}\n"
     ]
    }
   ],
   "source": [
    "print(daily_prints_log | other_daily_prints_log)"
   ]
  },
  {
   "cell_type": "code",
   "execution_count": 53,
   "id": "256e281b",
   "metadata": {},
   "outputs": [
    {
     "name": "stdout",
     "output_type": "stream",
     "text": [
      "{1, 2, 3, 4, 7}\n"
     ]
    }
   ],
   "source": [
    "##What matches in both set\n",
    "print(daily_prints_log & other_daily_prints_log)"
   ]
  },
  {
   "cell_type": "code",
   "execution_count": 54,
   "id": "b9cf662b",
   "metadata": {},
   "outputs": [
    {
     "name": "stdout",
     "output_type": "stream",
     "text": [
      "{5, 6}\n"
     ]
    }
   ],
   "source": [
    "##What does not match in both set\n",
    "print(daily_prints_log - other_daily_prints_log)"
   ]
  },
  {
   "cell_type": "code",
   "execution_count": 55,
   "id": "15f7c32e",
   "metadata": {},
   "outputs": [
    {
     "name": "stdout",
     "output_type": "stream",
     "text": [
      "{5, 6, 41, 31}\n"
     ]
    }
   ],
   "source": [
    "##check if are unique in both set \n",
    "print(daily_prints_log ^ other_daily_prints_log)"
   ]
  },
  {
   "cell_type": "code",
   "execution_count": 56,
   "id": "16de0cd9",
   "metadata": {},
   "outputs": [],
   "source": [
    "##Dictionaries\n",
    "##key/value pair\n",
    "dictionary_cream={'name':'Iris Seb','weekly_intake':5,'fav_ice_reame':['strawberry','apple','vanilla']}\n",
    "    "
   ]
  },
  {
   "cell_type": "code",
   "execution_count": 57,
   "id": "d215f130",
   "metadata": {},
   "outputs": [
    {
     "data": {
      "text/plain": [
       "{'name': 'Iris Seb',\n",
       " 'weekly_intake': 5,\n",
       " 'fav_ice_reame': ['strawberry', 'apple', 'vanilla']}"
      ]
     },
     "execution_count": 57,
     "metadata": {},
     "output_type": "execute_result"
    }
   ],
   "source": [
    "dictionary_cream"
   ]
  },
  {
   "cell_type": "code",
   "execution_count": 58,
   "id": "bd11817f",
   "metadata": {},
   "outputs": [
    {
     "data": {
      "text/plain": [
       "dict"
      ]
     },
     "execution_count": 58,
     "metadata": {},
     "output_type": "execute_result"
    }
   ],
   "source": [
    "type(dictionary_cream)"
   ]
  },
  {
   "cell_type": "code",
   "execution_count": 60,
   "id": "5153b167",
   "metadata": {},
   "outputs": [
    {
     "data": {
      "text/plain": [
       "dict_values(['Iris Seb', 5, ['strawberry', 'apple', 'vanilla']])"
      ]
     },
     "execution_count": 60,
     "metadata": {},
     "output_type": "execute_result"
    }
   ],
   "source": [
    "dictionary_cream.values()"
   ]
  },
  {
   "cell_type": "code",
   "execution_count": 61,
   "id": "eacf7737",
   "metadata": {},
   "outputs": [
    {
     "data": {
      "text/plain": [
       "dict_keys(['name', 'weekly_intake', 'fav_ice_reame'])"
      ]
     },
     "execution_count": 61,
     "metadata": {},
     "output_type": "execute_result"
    }
   ],
   "source": [
    "dictionary_cream.keys()"
   ]
  },
  {
   "cell_type": "code",
   "execution_count": 62,
   "id": "1614b864",
   "metadata": {},
   "outputs": [
    {
     "data": {
      "text/plain": [
       "dict_items([('name', 'Iris Seb'), ('weekly_intake', 5), ('fav_ice_reame', ['strawberry', 'apple', 'vanilla'])])"
      ]
     },
     "execution_count": 62,
     "metadata": {},
     "output_type": "execute_result"
    }
   ],
   "source": [
    "dictionary_cream.items()"
   ]
  },
  {
   "cell_type": "code",
   "execution_count": 65,
   "id": "1eafc8ca",
   "metadata": {},
   "outputs": [
    {
     "name": "stdout",
     "output_type": "stream",
     "text": [
      "Iris Seb\n",
      "['strawberry', 'apple', 'vanilla']\n"
     ]
    }
   ],
   "source": [
    "##finding values in a dictionary\n",
    "print(dictionary_cream['name'])\n",
    "print(dictionary_cream['fav_ice_reame'])"
   ]
  },
  {
   "cell_type": "code",
   "execution_count": 66,
   "id": "4f42d7c4",
   "metadata": {},
   "outputs": [
    {
     "data": {
      "text/plain": [
       "{'name': 'Thakgalang Sebothoma',\n",
       " 'weekly_intake': 5,\n",
       " 'fav_ice_reame': ['strawberry', 'apple', 'vanilla']}"
      ]
     },
     "execution_count": 66,
     "metadata": {},
     "output_type": "execute_result"
    }
   ],
   "source": [
    "##updating values in a dictionary\n",
    "dictionary_cream['name']='Thakgalang Sebothoma'\n",
    "dictionary_cream\n"
   ]
  },
  {
   "cell_type": "code",
   "execution_count": null,
   "id": "eefa01ba",
   "metadata": {},
   "outputs": [],
   "source": []
  }
 ],
 "metadata": {
  "kernelspec": {
   "display_name": "Python 3 (ipykernel)",
   "language": "python",
   "name": "python3"
  },
  "language_info": {
   "codemirror_mode": {
    "name": "ipython",
    "version": 3
   },
   "file_extension": ".py",
   "mimetype": "text/x-python",
   "name": "python",
   "nbconvert_exporter": "python",
   "pygments_lexer": "ipython3",
   "version": "3.9.12"
  }
 },
 "nbformat": 4,
 "nbformat_minor": 5
}
