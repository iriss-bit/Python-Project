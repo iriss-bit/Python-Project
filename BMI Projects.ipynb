{
 "cells": [
  {
   "cell_type": "code",
   "execution_count": 21,
   "id": "1dfdda97",
   "metadata": {},
   "outputs": [
    {
     "name": "stdout",
     "output_type": "stream",
     "text": [
      "enter your name : Iris\n",
      "enter weight in pound : 170\n",
      "enter height in inches: 69\n",
      "119510.00000000001\n",
      "Iris you are Over Mobirdly Obese: Extremely High.\n"
     ]
    }
   ],
   "source": [
    "name=input('enter your name : ')\n",
    "weight=int(input('enter weight in pound : '))\n",
    "height=int(input('enter height in inches: '))\n",
    "BMI =(weight *703 / height *height)\n",
    "print(BMI)\n",
    "if BMI>0:\n",
    "    if BMI<18.5:\n",
    "        print(name +\" \" + 'you are underweight.')\n",
    "        \n",
    "    elif BMI>=18.5 and BMI<=24.9 :\n",
    "        print(name + 'Normal weight minimal.')\n",
    "        \n",
    "    elif BMI>=25 and BMI<=29.9 :\n",
    "        print(name + \" \" +'you are OverWeight: Increase.')\n",
    "        \n",
    "    elif BMI>=30 and BMI<=34.9 :\n",
    "        print(name +\" \" + 'you are Obese : High.')\n",
    "        \n",
    "    elif BMI>=35 and BMI<=39.9 :\n",
    "        print(name + \" \" +'you are Severley Obese: Very High.')\n",
    "        \n",
    "    elif BMI>40:\n",
    "        print(name +\" \" + 'you are Over Mobirdly Obese: Extremely High.')\n",
    "        \n",
    "else:\n",
    "    print(name + \" \" +'enter valid input height or weight')"
   ]
  },
  {
   "cell_type": "code",
   "execution_count": 11,
   "id": "dba58ff2",
   "metadata": {},
   "outputs": [
    {
     "name": "stdout",
     "output_type": "stream",
     "text": [
      "170\n"
     ]
    }
   ],
   "source": [
    "print(weight)"
   ]
  },
  {
   "cell_type": "code",
   "execution_count": null,
   "id": "00e1c786",
   "metadata": {},
   "outputs": [],
   "source": []
  },
  {
   "cell_type": "code",
   "execution_count": 12,
   "id": "24b07fb0",
   "metadata": {},
   "outputs": [
    {
     "name": "stdout",
     "output_type": "stream",
     "text": [
      "69\n"
     ]
    }
   ],
   "source": [
    "print(height )"
   ]
  },
  {
   "cell_type": "code",
   "execution_count": 20,
   "id": "410d232c",
   "metadata": {},
   "outputs": [
    {
     "name": "stdout",
     "output_type": "stream",
     "text": [
      "Iris you are Over Mobirdly Obese: Extremely High.\n"
     ]
    }
   ],
   "source": [
    "if BMI>0:\n",
    "    if BMI<18.5:\n",
    "        print(name +\" \" + 'you are underweight.')\n",
    "        \n",
    "    elif BMI>=18.5 and BMI<=24.9 :\n",
    "        print(name + 'Normal weight minimal.')\n",
    "        \n",
    "    elif BMI>=25 and BMI<=29.9 :\n",
    "        print(name + \" \" +'you are OverWeight: Increase.')\n",
    "        \n",
    "    elif BMI>=30 and BMI<=34.9 :\n",
    "        print(name +\" \" + 'you are Obese : High.')\n",
    "        \n",
    "    elif BMI>=35 and BMI<=39.9 :\n",
    "        print(name + \" \" +'you are Severley Obese: Very High.')\n",
    "        \n",
    "    elif BMI>40:\n",
    "        print(name +\" \" + 'you are Over Mobirdly Obese: Extremely High.')\n",
    "        \n",
    "else:\n",
    "    print(name + \" \" +'enter valid input height or weight')"
   ]
  },
  {
   "cell_type": "code",
   "execution_count": null,
   "id": "cc8d93a1",
   "metadata": {},
   "outputs": [],
   "source": [
    "BMI =(weight in pounds *703/ height in inches *height in inches)"
   ]
  }
 ],
 "metadata": {
  "kernelspec": {
   "display_name": "Python 3 (ipykernel)",
   "language": "python",
   "name": "python3"
  },
  "language_info": {
   "codemirror_mode": {
    "name": "ipython",
    "version": 3
   },
   "file_extension": ".py",
   "mimetype": "text/x-python",
   "name": "python",
   "nbconvert_exporter": "python",
   "pygments_lexer": "ipython3",
   "version": "3.9.12"
  }
 },
 "nbformat": 4,
 "nbformat_minor": 5
}
