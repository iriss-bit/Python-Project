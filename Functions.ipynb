{
 "cells": [
  {
   "cell_type": "code",
   "execution_count": 1,
   "id": "3e479359",
   "metadata": {},
   "outputs": [],
   "source": [
    "##Functions\n",
    "def first_func():\n",
    "    print('we did it')"
   ]
  },
  {
   "cell_type": "code",
   "execution_count": 2,
   "id": "7db05dce",
   "metadata": {},
   "outputs": [
    {
     "name": "stdout",
     "output_type": "stream",
     "text": [
      "we did it\n"
     ]
    }
   ],
   "source": [
    "first_func()"
   ]
  },
  {
   "cell_type": "code",
   "execution_count": 3,
   "id": "86409a7a",
   "metadata": {},
   "outputs": [],
   "source": [
    "##passing arguments\n",
    "def number_squared(number):\n",
    "    print(number**2)"
   ]
  },
  {
   "cell_type": "code",
   "execution_count": 4,
   "id": "3e6deed3",
   "metadata": {},
   "outputs": [
    {
     "name": "stdout",
     "output_type": "stream",
     "text": [
      "25\n"
     ]
    }
   ],
   "source": [
    "number_squared(5)"
   ]
  },
  {
   "cell_type": "code",
   "execution_count": 5,
   "id": "e0f2d805",
   "metadata": {},
   "outputs": [],
   "source": [
    "##passing arguments\n",
    "def number_squared_cust(number,power):\n",
    "    print(number**power)"
   ]
  },
  {
   "cell_type": "code",
   "execution_count": 6,
   "id": "c1621b50",
   "metadata": {},
   "outputs": [
    {
     "name": "stdout",
     "output_type": "stream",
     "text": [
      "32\n"
     ]
    }
   ],
   "source": [
    "number_squared_cust(2,5)"
   ]
  },
  {
   "cell_type": "code",
   "execution_count": 10,
   "id": "bc2b5936",
   "metadata": {},
   "outputs": [],
   "source": [
    "##Aibitraruy Arguments\n",
    "args_tuple =(2,4,6,8,10)\n",
    "def number_args(*number):\n",
    "    print(number[0]*number[1])## multipy index 0 with index 1 of the arguments provided"
   ]
  },
  {
   "cell_type": "code",
   "execution_count": 11,
   "id": "9e7f3aab",
   "metadata": {},
   "outputs": [
    {
     "name": "stdout",
     "output_type": "stream",
     "text": [
      "8\n"
     ]
    }
   ],
   "source": [
    "number_args(*args_tuple)"
   ]
  },
  {
   "cell_type": "code",
   "execution_count": 16,
   "id": "427623f8",
   "metadata": {},
   "outputs": [],
   "source": [
    "def number_args(*number):\n",
    "    print(number[0]*number[1])## multipy index 0 with index 1 of the arguments provided"
   ]
  },
  {
   "cell_type": "code",
   "execution_count": 17,
   "id": "cbe4e83b",
   "metadata": {},
   "outputs": [
    {
     "name": "stdout",
     "output_type": "stream",
     "text": [
      "8\n"
     ]
    }
   ],
   "source": [
    "number_args(2,4,6,8,10)"
   ]
  },
  {
   "cell_type": "code",
   "execution_count": 18,
   "id": "b8d3202c",
   "metadata": {},
   "outputs": [],
   "source": [
    "##Key word argumet\n",
    "def number_squared_cust(number,power):\n",
    "    print(number**power)"
   ]
  },
  {
   "cell_type": "code",
   "execution_count": 21,
   "id": "3fd53020",
   "metadata": {},
   "outputs": [
    {
     "name": "stdout",
     "output_type": "stream",
     "text": [
      "3125\n"
     ]
    }
   ],
   "source": [
    "number_squared_cust(number=5,power=5)"
   ]
  },
  {
   "cell_type": "code",
   "execution_count": 24,
   "id": "615ff0fc",
   "metadata": {},
   "outputs": [],
   "source": [
    "def number_args(**number):\n",
    "    print('my number is' +  number['integer'])## multipy index 0 with index 1 of the arguments provided"
   ]
  },
  {
   "cell_type": "code",
   "execution_count": 25,
   "id": "cf41c0ee",
   "metadata": {},
   "outputs": [
    {
     "name": "stdout",
     "output_type": "stream",
     "text": [
      "my number is200\n"
     ]
    }
   ],
   "source": [
    "number_args(integer='200')"
   ]
  },
  {
   "cell_type": "code",
   "execution_count": null,
   "id": "d74f453a",
   "metadata": {},
   "outputs": [],
   "source": []
  }
 ],
 "metadata": {
  "kernelspec": {
   "display_name": "Python 3 (ipykernel)",
   "language": "python",
   "name": "python3"
  },
  "language_info": {
   "codemirror_mode": {
    "name": "ipython",
    "version": 3
   },
   "file_extension": ".py",
   "mimetype": "text/x-python",
   "name": "python",
   "nbconvert_exporter": "python",
   "pygments_lexer": "ipython3",
   "version": "3.9.12"
  }
 },
 "nbformat": 4,
 "nbformat_minor": 5
}
